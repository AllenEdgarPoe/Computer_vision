{
  "nbformat": 4,
  "nbformat_minor": 0,
  "metadata": {
    "colab": {
      "name": "DL_software.ipynb",
      "provenance": [],
      "collapsed_sections": [],
      "authorship_tag": "ABX9TyNP4Ix2BS+4ex7hpnNKFmIy"
    },
    "kernelspec": {
      "name": "python3",
      "display_name": "Python 3"
    },
    "accelerator": "GPU"
  },
  "cells": [
    {
      "cell_type": "markdown",
      "metadata": {
        "id": "NNjaUah1cEcf",
        "colab_type": "text"
      },
      "source": [
        "### Deep Learning Software\n",
        "<br> cs231n Lecture 6"
      ]
    },
    {
      "cell_type": "code",
      "metadata": {
        "id": "VVDaX8sCcgo7",
        "colab_type": "code",
        "outputId": "d5c57f34-a950-4389-d62c-2aa2d3be78d9",
        "colab": {
          "base_uri": "https://localhost:8080/",
          "height": 63
        }
      },
      "source": [
        "!pip3 install torch torchvision\n",
        "import torch\n",
        "import torchvision\n",
        "import tensorflow as tf"
      ],
      "execution_count": 0,
      "outputs": [
        {
          "output_type": "display_data",
          "data": {
            "text/html": [
              "<p style=\"color: red;\">\n",
              "The default version of TensorFlow in Colab will soon switch to TensorFlow 2.x.<br>\n",
              "We recommend you <a href=\"https://www.tensorflow.org/guide/migrate\" target=\"_blank\">upgrade</a> now \n",
              "or ensure your notebook will continue to use TensorFlow 1.x via the <code>%tensorflow_version 1.x</code> magic:\n",
              "<a href=\"https://colab.research.google.com/notebooks/tensorflow_version.ipynb\" target=\"_blank\">more info</a>.</p>\n"
            ],
            "text/plain": [
              "<IPython.core.display.HTML object>"
            ]
          },
          "metadata": {
            "tags": []
          }
        }
      ]
    },
    {
      "cell_type": "markdown",
      "metadata": {
        "id": "Ry2i-IyqiNc5",
        "colab_type": "text"
      },
      "source": [
        "### 원래 numpy로 코드짜면.."
      ]
    },
    {
      "cell_type": "code",
      "metadata": {
        "id": "ZMy_f5r9iQqc",
        "colab_type": "code",
        "outputId": "3f3343c9-8efe-42e0-8237-d19663ea43a9",
        "colab": {
          "base_uri": "https://localhost:8080/",
          "height": 209
        }
      },
      "source": [
        "import numpy as np  #numpy는 cpu로만 가동\n",
        "np.random.seed(0)\n",
        "\n",
        "N,D = 3,4\n",
        "\n",
        "x = np.random.randn(N,D)\n",
        "y = np.random.randn(N,D)\n",
        "z = np.random.randn(N,D)\n",
        "\n",
        "a = x * y \n",
        "b = a + z\n",
        "c = np.sum(b)\n",
        "\n",
        "grad_c = 1.0\n",
        "grad_b = grad_c * np.ones((N,D))\n",
        "grad_a = grad_b.copy()\n",
        "grad_z = grad_b.copy()\n",
        "grad_x = grad_a * y\n",
        "grad_y = grad_a * x\n",
        "\n",
        "print(a, grad_a)\n",
        "print(b, grad_b)\n",
        "print(c, grad_c)"
      ],
      "execution_count": 0,
      "outputs": [
        {
          "output_type": "stream",
          "text": [
            "[[ 1.34251038  0.04868913  0.43442581  0.74772853]\n",
            " [ 2.79027931  0.20049663  0.297442    0.12927355]\n",
            " [ 0.26351668  0.26837482  0.12451648 -1.07931093]] [[1. 1. 1. 1.]\n",
            " [1. 1. 1. 1.]\n",
            " [1. 1. 1. 1.]]\n",
            "[[ 3.61226501 -1.40567654  0.48018432  0.56054468]\n",
            " [ 4.32305853  1.6698554   0.45238942  0.50743607]\n",
            " [-0.62426907 -1.71242165 -0.22339567 -0.92296196]] [[1. 1. 1. 1.]\n",
            " [1. 1. 1. 1.]\n",
            " [1. 1. 1. 1.]]\n",
            "6.717008537800067 1.0\n"
          ],
          "name": "stdout"
        }
      ]
    },
    {
      "cell_type": "code",
      "metadata": {
        "id": "Y87tteI5fJqn",
        "colab_type": "code",
        "colab": {}
      },
      "source": [
        "##PyTorch Example\n",
        "from torch.autograd import Variable\n",
        "N, D = 3,4\n",
        "x = Variable(torch.randn(N,D), requires_grad = True)\n",
        "y = Variable(torch.randn(N,D), requires_grad = True)\n",
        "z = Variable(torch.randn(N,D), requires_grad = True)\n",
        "\n",
        "a = x*y\n",
        "b = a+z\n",
        "c = torch.sum(b)\n",
        "\n",
        "c.backward()\n",
        "\n",
        "# print(x.grad.data)\n",
        "# print(y.grad.data)\n",
        "# print(z.grad.data)"
      ],
      "execution_count": 0,
      "outputs": []
    },
    {
      "cell_type": "markdown",
      "metadata": {
        "id": "Xf-ki3fNiB6m",
        "colab_type": "text"
      },
      "source": [
        "## PyTorch: Three Levels of Abstraction\n",
        "**Tensor**: Imperative ndarray, but runs on GPU <br>\n",
        "**Variable**: Node in computational graph; store data and gradient<br>\n",
        "**Module**: A neural network layer; may store state or learnable weights\n",
        "\n",
        "\n",
        "---\n",
        "\n",
        "\n",
        "\n",
        "*   넘파이 와 비슷하지만 Tensor는 GPU 상에서 실행 가능하다.\n",
        "*   신경망을 구성하고 학습하는 과정에서 자동으로 미분한다. \n",
        "\n"
      ]
    },
    {
      "cell_type": "code",
      "metadata": {
        "id": "OPNwOGlVmWeK",
        "colab_type": "code",
        "outputId": "00d25f02-a339-4006-e96e-d37b8cd720e6",
        "colab": {
          "base_uri": "https://localhost:8080/",
          "height": 104
        }
      },
      "source": [
        "dtype = torch.float\n",
        "device = torch.device(\"cuda:0\") #모든 텐서를 GPU로 보내는 코드\n",
        "# device = torch.device(\"cpu\")\n",
        "\n",
        "N, D_in, H, D_out = 64, 1000, 100, 10\n",
        "\n",
        "x = torch.randn(N, D_in).type(dtype)\n",
        "y = torch.randn(N, D_out).type(dtype)\n",
        "w1 = torch.randn(D_in, H).type(dtype)\n",
        "w2 = torch.randn(H, D_out).type(dtype)\n",
        "\n",
        "learning_rate = 1e-6\n",
        "for t in range(500):\n",
        "  h = x.mm(w1)\n",
        "  h_relu = h.clamp(min=0)\n",
        "  y_pred = h_relu.mm(w2)\n",
        "\n",
        "  loss = (y_pred - y).pow(2).sum() #Mean Squared Error \n",
        "  if t% 100 == 99:\n",
        "    print(\"{}번째 loss값: {}\".format(t+1, loss))\n",
        "\n",
        "  #역전파\n",
        "  grad_y_pred = 2.0 * (y_pred - y)\n",
        "  grad_w2 = h_relu.t().mm(grad_y_pred)\n",
        "  grad_h_relu = grad_y_pred.mm(w2.t())\n",
        "  grad_h = grad_h_relu.clone()\n",
        "  grad_h[h<0] = 0  #softmax\n",
        "  grad_w1 = x.t().mm(grad_h)\n",
        "\n",
        "  w1 -= learning_rate * grad_w1\n",
        "  w2 -= learning_rate * grad_w2\n",
        "\n",
        "# print(w1, w2)"
      ],
      "execution_count": 0,
      "outputs": [
        {
          "output_type": "stream",
          "text": [
            "100번째 loss값: 619.2386474609375\n",
            "200번째 loss값: 4.6539106369018555\n",
            "300번째 loss값: 0.048646967858076096\n",
            "400번째 loss값: 0.00084747897926718\n",
            "500번째 loss값: 8.656668069306761e-05\n"
          ],
          "name": "stdout"
        }
      ]
    },
    {
      "cell_type": "markdown",
      "metadata": {
        "id": "0zehF3I6vKZa",
        "colab_type": "text"
      },
      "source": [
        "\n",
        "\n",
        "---\n",
        "\n",
        "**PyTorch Neural Network**\n",
        "<br> **autograd**: 자동 미분하여 역전파 단계에서 연산 자동화 가능.\n"
      ]
    },
    {
      "cell_type": "code",
      "metadata": {
        "colab_type": "code",
        "id": "sLH2HqY4SXd0",
        "outputId": "c8e01bee-e664-4dee-c4ba-85cdc4f7e13c",
        "colab": {
          "base_uri": "https://localhost:8080/",
          "height": 104
        }
      },
      "source": [
        "# 입력과 출력을 저장하기 위해 무작위 값을 갖는 Tensor를 생성\n",
        "# requires_grad = False로 설정하여 역전파 중에 이 Tensor들에 대한 변화도를 계산할 필요가 없음을 나타냄. \n",
        "x = Variable(torch.randn(N, D_in)).to(device)  #to(device)는 cuda에 safely하게 인스턴스를 집어넣기 위함이다. \n",
        "y = Variable(torch.randn(N, D_out), requires_grad = False).to(device) #default가 false여서 안 써줘도 됨\n",
        "\n",
        "w1 = torch.randn(D_in, H, device=device, dtype=dtype, requires_grad=True)\n",
        "w2 = torch.randn(H, D_out, device=device, dtype=dtype, requires_grad=True)\n",
        "\n",
        "learning_rate = 1e-6\n",
        "\n",
        "for t in range(500):\n",
        "  y_pred = x.mm(w1).clamp(min=0).mm(w2) #역전파 단계를 따로 구현할 필요가 없으므로 중간값들에 대한 참조를 하지 않는다\n",
        "\n",
        "  loss = (y_pred - y).pow(2).sum() #loss는 (1,) 형태의 tensor\n",
        "  if t % 100 == 99:\n",
        "    print(t, loss.item())   #loss.item()은 loss의 스칼라 값이다.\n",
        "\n",
        "  #autograd를 사용하여 역전파 함. 이는 requires_grad=True를 갖는 모든 Tensor에 대해 그래디언트 계산함. \n",
        "  loss.backward()   #w1.grad와 w2.grad는 w1과 w2에 대한 손실의 변화도를 갖는 Tensor가 된다. \n",
        "\n",
        "  #경사하강법을 사용해서 가중치를 수동으로 갱신함. \n",
        "  #torch.no_grad()로 감싸는 이유는 가중치들이 requires_grad=True지만 autograd에서는 이를 추적할 필요가 없기 때문. \n",
        "  #tensor.data가 tensor의 저장공간을 공유하긴 하지만, 이력을 추적하진 않는다. \n",
        "  with torch.no_grad():\n",
        "    w1 -= learning_rate * w1.grad\n",
        "    w2 -= learning_rate * w2.grad\n",
        "\n",
        "    #가중치 갱신 후에는 수동으로 변화도를 0으로 만듬\n",
        "    w1.grad.zero_()\n",
        "    w2.grad.zero_()\n",
        "\n",
        "\n"
      ],
      "execution_count": 0,
      "outputs": [
        {
          "output_type": "stream",
          "text": [
            "99 413.3988342285156\n",
            "199 1.6160252094268799\n",
            "299 0.009349741041660309\n",
            "399 0.00021846350864507258\n",
            "499 3.935487620765343e-05\n"
          ],
          "name": "stdout"
        }
      ]
    },
    {
      "cell_type": "markdown",
      "metadata": {
        "id": "Ygza2gNOlJYp",
        "colab_type": "text"
      },
      "source": [
        "**사용자 정의 모델**\n"
      ]
    },
    {
      "cell_type": "code",
      "metadata": {
        "colab_type": "code",
        "id": "4drTF3kSlIXs",
        "outputId": "ae3da6d1-1eb8-4dec-f250-2b932c0901e5",
        "colab": {
          "base_uri": "https://localhost:8080/",
          "height": 104
        }
      },
      "source": [
        "class MyReLU(torch.autograd.Function):\n",
        "  '''\n",
        "  torch.autograd.Function을 상속받아 사용자 정의 autograd Function을 구현하고, \n",
        "  Tensor 연산을 하는 순전파와 역전파 단계를 구현  \n",
        "  '''\n",
        "  @staticmethod\n",
        "  def forward(ctx, input):\n",
        "    \"\"\"\n",
        "    순전파 단계에서는 입력을 갖는 Tensor를 받아 출력을 갖는 Tensor로 반환시킴. \n",
        "    ctx는 컨텍스트 객체로 역전파 연산을 위한 정보 저장에 사용된다.\n",
        "    ctx.save_for_backward 메소드를 사용하여 역전파 단계에서 사용할 어떠한 객체도 저장가능\n",
        "    \"\"\"\n",
        "    ctx.save_for_backward(input)\n",
        "    return input.clamp(min=0)\n",
        "\n",
        "  @staticmethod\n",
        "  def backward(ctx, grad_output):\n",
        "      \"\"\" \n",
        "      역전파 단계에서는 출력에 대한 손실의 변화도를 갖는 Tensor를 받고, 입력에 대한 손실의 변화도를 계산함\n",
        "      \"\"\"\n",
        "      input, = ctx.saved_tensors\n",
        "      grad_input = grad_output.clone()\n",
        "      grad_input[input < 0] = 0  # relu에 대한 derivate\n",
        "      return grad_input\n",
        "\n",
        "\n",
        "\n",
        "x = Variable(torch.randn(N, D_in)).to(device)  #to(device)는 cuda에 safely하게 인스턴스를 집어넣기 위함이다. \n",
        "y = Variable(torch.randn(N, D_out), requires_grad = False).to(device) #default가 false여서 안 써줘도 됨\n",
        "\n",
        "w1 = torch.randn(D_in, H, device=device, dtype=dtype, requires_grad=True)\n",
        "w2 = torch.randn(H, D_out, device=device, dtype=dtype, requires_grad=True)\n",
        "\n",
        "learning_rate = 1e-6\n",
        "\n",
        "for t in range(500):\n",
        "  relu = MyReLU.apply\n",
        "\n",
        "  y_pred = relu(x.mm(w1)).mm(w2)\n",
        "  loss = (y_pred - y).pow(2).sum()\n",
        "\n",
        "  if t % 100 == 99:\n",
        "    print(t,loss.item())\n",
        "\n",
        "  #autograd를 사용하여 역전파 함.\n",
        "  loss.backward()   \n",
        "\n",
        "  #경사하강법을 사용해서 가중치를 수동으로 갱신함. \n",
        "  #torch.no_grad()로 감싸는 이유는 가중치들이 requires_grad=True지만 autograd에서는 이를 추적할 필요가 없기 때문. \n",
        "  #tensor.data가 tensor의 저장공간을 공유하긴 하지만, 이력을 추적하진 않는다. \n",
        "  with torch.no_grad():\n",
        "    w1 -= learning_rate * w1.grad\n",
        "    w2 -= learning_rate * w2.grad\n",
        "\n",
        "    #가중치 갱신 후에는 수동으로 변화도를 0으로 만듬\n",
        "    w1.grad.zero_()\n",
        "    w2.grad.zero_()\n"
      ],
      "execution_count": 0,
      "outputs": [
        {
          "output_type": "stream",
          "text": [
            "99 615.1189575195312\n",
            "199 3.5873830318450928\n",
            "299 0.03356011211872101\n",
            "399 0.0005682189948856831\n",
            "499 6.444560131058097e-05\n"
          ],
          "name": "stdout"
        }
      ]
    },
    {
      "cell_type": "markdown",
      "metadata": {
        "id": "4irQr1yco1d8",
        "colab_type": "text"
      },
      "source": [
        "**Neural Network**"
      ]
    },
    {
      "cell_type": "code",
      "metadata": {
        "id": "0otlGoDrnbSc",
        "colab_type": "code",
        "outputId": "781f4f50-a774-4ea0-d63e-a60c8e443c66",
        "colab": {
          "base_uri": "https://localhost:8080/",
          "height": 104
        }
      },
      "source": [
        "# N은 배치 크기이며, D_in은 입력의 차원입니다;\n",
        "# H는 은닉층의 차원이며, D_out은 출력 차원입니다.\n",
        "N, D_in, H, D_out = 64, 1000, 100, 10\n",
        "\n",
        "# 입력과 출력을 저장하기 위해 무작위 값을 갖는 Tensor를 생성합니다.\n",
        "x = torch.randn(N, D_in)\n",
        "y = torch.randn(N, D_out)\n",
        "\n",
        "# nn 패키지를 사용하여 모델을 순차적 계층(sequence of layers)으로 정의합니다.\n",
        "# nn.Sequential은 다른 Module들을 포함하는 Module로, 그 Module들을 순차적으로\n",
        "# 적용하여 출력을 생성합니다. 각각의 Linear Module은 선형 함수를 사용하여\n",
        "# 입력으로부터 출력을 계산하고, 내부 Tensor에 가중치와 편향을 저장합니다.\n",
        "model = torch.nn.Sequential(\n",
        "    torch.nn.Linear(D_in, H),\n",
        "    torch.nn.ReLU(),\n",
        "    torch.nn.Linear(H, D_out),\n",
        ")\n",
        "\n",
        "# 또한 nn 패키지에는 널리 사용하는 손실 함수들에 대한 정의도 포함하고 있습니다;\n",
        "# 여기에서는 평균 제곱 오차(MSE; Mean Squared Error)를 손실 함수로 사용하겠습니다.\n",
        "loss_fn = torch.nn.MSELoss(reduction='sum')\n",
        "\n",
        "learning_rate = 1e-4\n",
        "for t in range(500):\n",
        "    # 순전파 단계: 모델에 x를 전달하여 예상되는 y 값을 계산합니다. Module 객체는\n",
        "    # __call__ 연산자를 덮어써(override) 함수처럼 호출할 수 있게 합니다.\n",
        "    # 이렇게 함으로써 입력 데이터의 Tensor를 Module에 전달하여 출력 데이터의\n",
        "    # Tensor를 생성합니다.\n",
        "    y_pred = model(x)\n",
        "\n",
        "    # 손실을 계산하고 출력합니다. 예측한 y와 정답인 y를 갖는 Tensor들을 전달하고,\n",
        "    # 손실 함수는 손실 값을 갖는 Tensor를 반환합니다.\n",
        "    loss = loss_fn(y_pred, y)\n",
        "    if t % 100 == 99:\n",
        "        print(t, loss.item())\n",
        "\n",
        "    # 역전파 단계를 실행하기 전에 변화도를 0으로 만듭니다.\n",
        "    model.zero_grad()\n",
        "\n",
        "    # 역전파 단계: 모델의 학습 가능한 모든 매개변수에 대해 손실의 변화도를\n",
        "    # 계산합니다. 내부적으로 각 Module의 매개변수는 requires_grad=True 일 때\n",
        "    # Tensor 내에 저장되므로, 이 호출은 모든 모델의 모든 학습 가능한 매개변수의\n",
        "    # 변화도를 계산하게 됩니다.\n",
        "    loss.backward()\n",
        "\n",
        "    # 경사하강법(gradient descent)를 사용하여 가중치를 갱신합니다. 각 매개변수는\n",
        "    # Tensor이므로 이전에 했던 것과 같이 변화도에 접근할 수 있습니다.\n",
        "    with torch.no_grad():\n",
        "        for param in model.parameters():\n",
        "            param -= learning_rate * param.grad"
      ],
      "execution_count": 0,
      "outputs": [
        {
          "output_type": "stream",
          "text": [
            "99 2.4191596508026123\n",
            "199 0.02994726225733757\n",
            "299 0.0007691961945965886\n",
            "399 2.9122276828275062e-05\n",
            "499 1.43080262660078e-06\n"
          ],
          "name": "stdout"
        }
      ]
    },
    {
      "cell_type": "markdown",
      "metadata": {
        "id": "8yq3HRrno3d8",
        "colab_type": "text"
      },
      "source": [
        "**Optimization**"
      ]
    },
    {
      "cell_type": "code",
      "metadata": {
        "id": "Vqv9d25bpAap",
        "colab_type": "code",
        "outputId": "2c5cb245-7998-4f5f-940d-624baea0aa50",
        "colab": {
          "base_uri": "https://localhost:8080/",
          "height": 104
        }
      },
      "source": [
        "# N은 배치 크기이며, D_in은 입력의 차원입니다;\n",
        "# H는 은닉층의 차원이며, D_out은 출력 차원입니다.\n",
        "N, D_in, H, D_out = 64, 1000, 100, 10\n",
        "\n",
        "# 입력과 출력을 저장하기 위해 무작위 값을 갖는 Tensor를 생성합니다.\n",
        "x = torch.randn(N, D_in)\n",
        "y = torch.randn(N, D_out)\n",
        "\n",
        "# nn 패키지를 사용하여 모델과 손실 함수를 정의합니다.\n",
        "model = torch.nn.Sequential(\n",
        "    torch.nn.Linear(D_in, H),\n",
        "    torch.nn.ReLU(),\n",
        "    torch.nn.Linear(H, D_out),\n",
        ")\n",
        "loss_fn = torch.nn.MSELoss(reduction='sum')\n",
        "\n",
        "# optim 패키지를 사용하여 모델의 가중치를 갱신할 Optimizer를 정의합니다.\n",
        "# 여기서는 Adam을 사용하겠습니다; optim 패키지는 다른 다양한 최적화 알고리즘을\n",
        "# 포함하고 있습니다. Adam 생성자의 첫번째 인자는 어떤 Tensor가 갱신되어야 하는지\n",
        "# 알려줍니다.\n",
        "learning_rate = 1e-4\n",
        "optimizer = torch.optim.Adam(model.parameters(), lr=learning_rate)\n",
        "for t in range(500):\n",
        "    # 순전파 단계: 모델에 x를 전달하여 예상되는 y 값을 계산합니다.\n",
        "    y_pred = model(x)\n",
        "\n",
        "    # 손실을 계산하고 출력합니다.\n",
        "    loss = loss_fn(y_pred, y)\n",
        "    if t % 100 == 99:\n",
        "        print(t, loss.item())\n",
        "\n",
        "    # 역전파 단계 전에, Optimizer 객체를 사용하여 (모델의 학습 가능한 가중치인)\n",
        "    # 갱신할 변수들에 대한 모든 변화도를 0으로 만듭니다. 이렇게 하는 이유는\n",
        "    # 기본적으로 .backward()를 호출할 때마다 변화도가 버퍼(buffer)에 (덮어쓰지 않고)\n",
        "    # 누적되기 때문입니다. 더 자세한 내용은 torch.autograd.backward에 대한 문서를\n",
        "    # 참조하세요.\n",
        "    optimizer.zero_grad()\n",
        "\n",
        "    # 역전파 단계: 모델의 매개변수에 대한 손실의 변화도를 계산합니다.\n",
        "    loss.backward()\n",
        "\n",
        "    # Optimizer의 step 함수를 호출하면 매개변수가 갱신됩니다.\n",
        "    optimizer.step()"
      ],
      "execution_count": 0,
      "outputs": [
        {
          "output_type": "stream",
          "text": [
            "99 40.203311920166016\n",
            "199 0.5891818404197693\n",
            "299 0.011365246027708054\n",
            "399 0.00018329854356124997\n",
            "499 1.130008513428038e-06\n"
          ],
          "name": "stdout"
        }
      ]
    },
    {
      "cell_type": "markdown",
      "metadata": {
        "id": "j8T9Qs-cpAz0",
        "colab_type": "text"
      },
      "source": [
        "**제어 흐름 + 가중치 공유** <br>\n",
        "은닉 계층을 갖는 완전히 연결 (full-connected) ReLU 신경망이 무작위로 0~3 사이 숫자를 선택하고, 가장 안쪽의 은닉층들을 계산하기 위해 동일한 가중치를 여러 번 재사용함. "
      ]
    }
  ]
}